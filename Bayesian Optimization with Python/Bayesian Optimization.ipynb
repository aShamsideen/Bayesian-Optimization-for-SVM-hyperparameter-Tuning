{
 "cells": [
  {
   "cell_type": "code",
   "execution_count": 1,
   "id": "9a3c7982",
   "metadata": {},
   "outputs": [],
   "source": [
    "import numpy as np\n",
    "import matplotlib.pyplot as plt\n",
    "from sklearn.svm import SVC\n",
    "from sklearn.datasets import load_breast_cancer\n",
    "from sklearn.preprocessing import MinMaxScaler\n",
    "from sklearn.model_selection import train_test_split\n",
    "from sklearn.metrics import roc_auc_score\n",
    "from bayes_opt import BayesianOptimization, UtilityFunction\n",
    "import warnings\n",
    "warnings.filterwarnings(\"ignore\")"
   ]
  },
  {
   "cell_type": "code",
   "execution_count": 2,
   "id": "c3ece1aa",
   "metadata": {},
   "outputs": [
    {
     "name": "stdout",
     "output_type": "stream",
     "text": [
      "|   iter    |  target   |     C     |\n",
      "-------------------------------------\n",
      "| \u001b[0m1        \u001b[0m | \u001b[0m0.9979   \u001b[0m | \u001b[0m9.671    \u001b[0m |\n",
      "| \u001b[0m2        \u001b[0m | \u001b[0m0.9975   \u001b[0m | \u001b[0m5.477    \u001b[0m |\n",
      "| \u001b[0m3        \u001b[0m | \u001b[0m0.9979   \u001b[0m | \u001b[0m9.727    \u001b[0m |\n",
      "| \u001b[0m4        \u001b[0m | \u001b[0m0.9979   \u001b[0m | \u001b[0m7.151    \u001b[0m |\n",
      "| \u001b[0m5        \u001b[0m | \u001b[0m0.9979   \u001b[0m | \u001b[0m6.98     \u001b[0m |\n",
      "| \u001b[0m6        \u001b[0m | \u001b[0m0.987    \u001b[0m | \u001b[0m0.01235  \u001b[0m |\n",
      "| \u001b[95m7        \u001b[0m | \u001b[95m0.9981   \u001b[0m | \u001b[95m8.462    \u001b[0m |\n",
      "| \u001b[0m8        \u001b[0m | \u001b[0m0.9981   \u001b[0m | \u001b[0m8.103    \u001b[0m |\n",
      "| \u001b[0m9        \u001b[0m | \u001b[0m0.9981   \u001b[0m | \u001b[0m8.282    \u001b[0m |\n",
      "| \u001b[0m10       \u001b[0m | \u001b[0m0.9981   \u001b[0m | \u001b[0m8.776    \u001b[0m |\n",
      "| \u001b[0m11       \u001b[0m | \u001b[0m0.9977   \u001b[0m | \u001b[0m6.214    \u001b[0m |\n",
      "| \u001b[0m12       \u001b[0m | \u001b[0m0.9973   \u001b[0m | \u001b[0m4.048    \u001b[0m |\n",
      "| \u001b[0m13       \u001b[0m | \u001b[0m0.9981   \u001b[0m | \u001b[0m8.635    \u001b[0m |\n",
      "| \u001b[0m14       \u001b[0m | \u001b[0m0.9981   \u001b[0m | \u001b[0m7.923    \u001b[0m |\n",
      "| \u001b[0m15       \u001b[0m | \u001b[0m0.9981   \u001b[0m | \u001b[0m8.964    \u001b[0m |\n",
      "=====================================\n",
      "Best result: {'C': 8.461966936485059}; f(x) = 0.9981132075471698.\n"
     ]
    }
   ],
   "source": [
    "# Prepare dataset\n",
    "cancer = load_breast_cancer()\n",
    "X = cancer['data']\n",
    "y = cancer['target']\n",
    "\n",
    "X_train, X_test, y_train, y_test = train_test_split(X, y, stratify=y, random_state=42)\n",
    "\n",
    "scaler = MinMaxScaler()\n",
    "X_train_scaled = scaler.fit_transform(X_train)\n",
    "X_test_scaled = scaler.transform(X_test)\n",
    "\n",
    "# Define black box function to optimize\n",
    "def black_box_function(C): # C: SVC hyperparameter to optimize for\n",
    "    model = SVC(C = C)\n",
    "    model.fit(X_train_scaled, y_train)\n",
    "    y_score = model.decision_function(X_test_scaled)\n",
    "    f = roc_auc_score(y_test, y_score)\n",
    "    return f\n",
    "\n",
    "# Set range of C to optimize for (bayes_opt req this to be a dict)\n",
    "pbounds = {'C': [0.01, 10]}\n",
    "\n",
    "# Create Bayes optimizer to optimize black box func\n",
    "optimizer = BayesianOptimization(f = black_box_function, pbounds=pbounds, verbose=2, random_state=4)\n",
    "optimizer.maximize(init_points=5, n_iter=10)\n",
    "print('Best result: {}; f(x) = {}.'.format(optimizer.max['params'], optimizer.max['target']))"
   ]
  },
  {
   "cell_type": "markdown",
   "id": "1a022704",
   "metadata": {},
   "source": [
    "More Control Over the Optimization Process"
   ]
  },
  {
   "cell_type": "code",
   "execution_count": 11,
   "id": "b7414dba",
   "metadata": {},
   "outputs": [
    {
     "name": "stdout",
     "output_type": "stream",
     "text": [
      "Best result: {'C': 9.984215837074222, 'degree': 4.0}; f(x) = 0.998.\n"
     ]
    },
    {
     "data": {
      "image/png": "[encoded data removed]",
      "text/plain": [
       "<Figure size 1080x360 with 1 Axes>"
      ]
     },
     "metadata": {
      "needs_background": "light"
     },
     "output_type": "display_data"
    }
   ],
   "source": [
    "# Create the optimizer. The black box function to optimize is not\n",
    "# specified here, as we will call that function directly later on.\n",
    "optimizer = BayesianOptimization(f = None, \n",
    "                                 pbounds = {\"C\": [0.01, 10], \n",
    "                                            \"degree\": [1, 5]}, \n",
    "                                 verbose = 2, random_state = 1234)\n",
    "# Specify the acquisition function (bayes_opt uses the term\n",
    "# utility function) to be the upper confidence bounds \"ucb\".\n",
    "# We set kappa = 1.96 to balance exploration vs exploitation.\n",
    "# xi = 0.01 is another hyper parameter which is required in the\n",
    "# arguments, but is not used by \"ucb\". Other acquisition functions\n",
    "# such as the expected improvement \"ei\" will be affected by xi.\n",
    "utility = UtilityFunction(kind = \"ucb\", kappa = 1.96, xi = 0.01)\n",
    "# We want to optimize both C and degree simultaneously.\n",
    "def black_box_function(C, degree):\n",
    "    model = SVC(C = C, degree = degree)\n",
    "    model.fit(X_train_scaled, y_train)\n",
    "    y_score = model.decision_function(X_test_scaled)\n",
    "    f = roc_auc_score(y_test, y_score)\n",
    "    return f\n",
    "# Optimization for loop.\n",
    "for i in range(25):\n",
    "    # Get optimizer to suggest new parameter values to try using the\n",
    "    # specified acquisition function.\n",
    "    next_point = optimizer.suggest(utility)\n",
    "    # Force degree from float to int.\n",
    "    next_point[\"degree\"] = int(next_point[\"degree\"])\n",
    "    # Evaluate the output of the black_box_function using \n",
    "    # the new parameter values.\n",
    "    target = black_box_function(**next_point)\n",
    "    try:\n",
    "        # Update the optimizer with the evaluation results. \n",
    "        # This should be in try-except to catch any errors!\n",
    "        optimizer.register(params = next_point, target = target)\n",
    "    except:\n",
    "        pass\n",
    "print(\"Best result: {}; f(x) = {:.3f}.\".format(optimizer.max[\"params\"], optimizer.max[\"target\"]))\n",
    "plt.figure(figsize = (15, 5))\n",
    "plt.plot(range(1, 1 + len(optimizer.space.target)), optimizer.space.target, \"-o\")\n",
    "plt.grid(True)\n",
    "plt.xlabel(\"Iteration\", fontsize = 14)\n",
    "plt.ylabel(\"Black box function f(x)\", fontsize = 14)\n",
    "plt.xticks(fontsize = 14)\n",
    "plt.yticks(fontsize = 14)\n",
    "plt.show()"
   ]
  }
 ],
 "metadata": {
  "kernelspec": {
   "display_name": "Python 3 (ipykernel)",
   "language": "python",
   "name": "python3"
  },
  "language_info": {
   "codemirror_mode": {
    "name": "ipython",
    "version": 3
   },
   "file_extension": ".py",
   "mimetype": "text/x-python",
   "name": "python",
   "nbconvert_exporter": "python",
   "pygments_lexer": "ipython3",
   "version": "3.13.1"
  }
 },
 "nbformat": 4,
 "nbformat_minor": 5
}
